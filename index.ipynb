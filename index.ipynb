{
 "cells": [
  {
   "cell_type": "markdown",
   "metadata": {},
   "source": [
    "# Scraping Concerts - Lab\n",
    "\n",
    "## Introduction\n",
    "\n",
    "Now that you've seen how to scrape a simple website, it's time to again practice those skills on a full-fledged site!\n",
    "In this lab, you'll practice your scraping skills on a music website: https://www.residentadvisor.net.\n",
    "## Objectives\n",
    "\n",
    "You will be able to:\n",
    "* Scrape events from a website\n",
    "* Follow links to those events to retrieve further information\n",
    "* Clean and store scraped data"
   ]
  },
  {
   "cell_type": "markdown",
   "metadata": {},
   "source": [
    "## View the Website\n",
    "\n",
    "For this lab, you'll be scraping the https://www.residentadvisor.net website. Start by navigating to the events page [here](https://www.residentadvisor.net/events) in your browser.\n",
    "\n",
    "<img src=\"images/ra.png\">"
   ]
  },
  {
   "cell_type": "code",
   "execution_count": null,
   "metadata": {},
   "outputs": [],
   "source": [
    "#Load the https://www.residentadvisor.net/events page in your browser."
   ]
  },
  {
   "cell_type": "markdown",
   "metadata": {},
   "source": [
    "## Open the Inspect Element Feature\n",
    "\n",
    "Next, open the inspect element feature from your web browser in order to preview the underlying HTML associated with the page."
   ]
  },
  {
   "cell_type": "code",
   "execution_count": null,
   "metadata": {},
   "outputs": [],
   "source": [
    "#Open the inspect element feature in your browser"
   ]
  },
  {
   "cell_type": "markdown",
   "metadata": {},
   "source": [
    "## Write a Function to Scrape all of the Events on the Given Page Events Page\n",
    "\n",
    "The function should return a Pandas DataFrame with columns for the Event_Name, Venue, Event_Date and Number_of_Attendees."
   ]
  },
  {
   "cell_type": "code",
   "execution_count": 2,
   "metadata": {},
   "outputs": [
    {
     "name": "stdout",
     "output_type": "stream",
     "text": [
      "Number of Events Scraped: 28 \n",
      "First Entry Format: <li><p class=\"eventDate date\"><a href=\"/events.aspx?ai=22&amp;v=day&amp;mn=10&amp;yr=2019&amp;dy=2\"><span>Wed, 02 Oct 2019 /</span></a></p></li>\n"
     ]
    }
   ],
   "source": [
    "from bs4 import BeautifulSoup\n",
    "import requests\n",
    "import re\n",
    "import pandas as pd\n",
    "import numpy as np\n",
    "import time\n",
    "\n",
    "# Inspect event element formatting\n",
    "response = requests.get(\"https://www.residentadvisor.net/events/us/washingtondc\")\n",
    "soup = BeautifulSoup(response.content, 'html.parser')\n",
    "events_list = soup.find('div', id=\"event-listing\")\n",
    "events = events_list.findAll('li')\n",
    "print('Number of Events Scraped:', len(events), '\\nFirst Entry Format:', events[0])"
   ]
  },
  {
   "cell_type": "code",
   "execution_count": 3,
   "metadata": {},
   "outputs": [
    {
     "data": {
      "text/html": [
       "<div>\n",
       "<style scoped>\n",
       "    .dataframe tbody tr th:only-of-type {\n",
       "        vertical-align: middle;\n",
       "    }\n",
       "\n",
       "    .dataframe tbody tr th {\n",
       "        vertical-align: top;\n",
       "    }\n",
       "\n",
       "    .dataframe thead th {\n",
       "        text-align: right;\n",
       "    }\n",
       "</style>\n",
       "<table border=\"1\" class=\"dataframe\">\n",
       "  <thead>\n",
       "    <tr style=\"text-align: right;\">\n",
       "      <th></th>\n",
       "      <th>Event_Name</th>\n",
       "      <th>Venue</th>\n",
       "      <th>Event_Date</th>\n",
       "      <th>Number_of_Attendees</th>\n",
       "    </tr>\n",
       "  </thead>\n",
       "  <tbody>\n",
       "    <tr>\n",
       "      <th>0</th>\n",
       "      <td>Meute (Live)</td>\n",
       "      <td>U Street Music Hall</td>\n",
       "      <td>Wed, 02 Oct 2019 /</td>\n",
       "      <td>2</td>\n",
       "    </tr>\n",
       "    <tr>\n",
       "      <th>1</th>\n",
       "      <td>Roosevelt with Blindstares</td>\n",
       "      <td>Flash</td>\n",
       "      <td>Wed, 02 Oct 2019 /</td>\n",
       "      <td>1</td>\n",
       "    </tr>\n",
       "    <tr>\n",
       "      <th>2</th>\n",
       "      <td>Contact: Shed</td>\n",
       "      <td>Flash</td>\n",
       "      <td>Thu, 03 Oct 2019 /</td>\n",
       "      <td>22</td>\n",
       "    </tr>\n",
       "    <tr>\n",
       "      <th>3</th>\n",
       "      <td>Meute (Live)</td>\n",
       "      <td>U Street Music Hall</td>\n",
       "      <td>Thu, 03 Oct 2019 /</td>\n",
       "      <td>2</td>\n",
       "    </tr>\n",
       "    <tr>\n",
       "      <th>4</th>\n",
       "      <td>Beauty in the Backyard</td>\n",
       "      <td>Camp Ramblewood</td>\n",
       "      <td>Thu, 03 Oct 2019 /</td>\n",
       "      <td>2</td>\n",
       "    </tr>\n",
       "  </tbody>\n",
       "</table>\n",
       "</div>"
      ],
      "text/plain": [
       "                   Event_Name                Venue          Event_Date  \\\n",
       "0                Meute (Live)  U Street Music Hall  Wed, 02 Oct 2019 /   \n",
       "1  Roosevelt with Blindstares                Flash  Wed, 02 Oct 2019 /   \n",
       "2               Contact: Shed                Flash  Thu, 03 Oct 2019 /   \n",
       "3                Meute (Live)  U Street Music Hall  Thu, 03 Oct 2019 /   \n",
       "4      Beauty in the Backyard      Camp Ramblewood  Thu, 03 Oct 2019 /   \n",
       "\n",
       "   Number_of_Attendees  \n",
       "0                    2  \n",
       "1                    1  \n",
       "2                   22  \n",
       "3                    2  \n",
       "4                    2  "
      ]
     },
     "execution_count": 3,
     "metadata": {},
     "output_type": "execute_result"
    }
   ],
   "source": [
    "# Solution template format for one events page\n",
    "rows = []\n",
    "for event in events:\n",
    "    date = event.find('p', class_=\"eventDate date\")\n",
    "    name = event.find('h1', class_=\"event-title\")\n",
    "    if name:\n",
    "        details = name.text.split(' at ') # EVENT_NAME at VENUE\n",
    "        event_name = details[0].strip()\n",
    "        venue = details[1].strip()\n",
    "        try:\n",
    "            number_of_attendees = int(re.match(\"(\\d*)\", event.find('p', class_=\"attending\").text)[0])\n",
    "        except:\n",
    "            number_of_attendees = np.nan # no attendees found\n",
    "        rows.append([event_name, venue, event_date, number_of_attendees])\n",
    "    elif date:\n",
    "        event_date = date.text\n",
    "    else:\n",
    "        continue\n",
    "df = pd.DataFrame(rows)\n",
    "df.columns = ['Event_Name', 'Venue', 'Event_Date', 'Number_of_Attendees']\n",
    "df.head()"
   ]
  },
  {
   "cell_type": "code",
   "execution_count": 4,
   "metadata": {},
   "outputs": [],
   "source": [
    "def scrape_events(events_page_url):\n",
    "    #Your code here\n",
    "    response = requests.get(events_page_url)\n",
    "    soup = BeautifulSoup(response.content, 'html.parser')\n",
    "    event_listings = soup.find('div', id=\"event-listing\")\n",
    "    events = event_listings.findAll('li')\n",
    "    rows = []\n",
    "    for event in events:\n",
    "        date = event.find('p', class_=\"eventDate date\")\n",
    "        name = event.find('h1', class_=\"event-title\")\n",
    "        if name:\n",
    "            details = name.text.split(' at ')\n",
    "            event_name = details[0].strip()\n",
    "            venue = details[1].strip()\n",
    "            try:\n",
    "                number_of_attendees = int(re.match(\"(\\d*)\", event.find('p', class_=\"attending\").text)[0])\n",
    "            except:\n",
    "                number_of_attendees = np.nan\n",
    "            rows.append([event_name, venue, event_date, number_of_attendees])\n",
    "        elif date:\n",
    "            event_date = date.text\n",
    "        else:\n",
    "            continue\n",
    "    df = pd.DataFrame(rows)\n",
    "    #df.columns = [\"Event_Name\", \"Venue\", \"Event_Date\", \"Number_of_Attendees\"]\n",
    "    return df"
   ]
  },
  {
   "cell_type": "markdown",
   "metadata": {},
   "source": [
    "## Write a Function to Retrieve the URL for the Next Page"
   ]
  },
  {
   "cell_type": "code",
   "execution_count": 5,
   "metadata": {},
   "outputs": [],
   "source": [
    "def next_page(url):\n",
    "    #Your code here\n",
    "    response = requests.get(url)\n",
    "    soup = BeautifulSoup(response.content, 'html.parser')\n",
    "    \n",
    "    next_page_part = soup.find('a', attrs={'ga-event-action': \"Next \"}).attrs['href']\n",
    "    next_page_url = \"https://www.residentadvisor.net\" + next_page_part\n",
    "    \n",
    "    return next_page_url"
   ]
  },
  {
   "cell_type": "markdown",
   "metadata": {},
   "source": [
    "## Scrape the Next 1000 Events for Your Area\n",
    "\n",
    "Display the data sorted by the number of attendees. If there is a tie for the number attending, sort by event date."
   ]
  },
  {
   "cell_type": "code",
   "execution_count": 6,
   "metadata": {},
   "outputs": [
    {
     "name": "stdout",
     "output_type": "stream",
     "text": [
      "current rows: 20\n",
      "current rows: 34\n",
      "current rows: 44\n",
      "current rows: 58\n",
      "current rows: 70\n",
      "current rows: 78\n",
      "current rows: 81\n",
      "current rows: 85\n",
      "current rows: 88\n",
      "current rows: 90\n",
      "current rows: 96\n",
      "current rows: 98\n",
      "current rows: 99\n",
      "current rows: 99\n",
      "Number of Events Scraped: 99\n"
     ]
    },
    {
     "data": {
      "text/html": [
       "<div>\n",
       "<style scoped>\n",
       "    .dataframe tbody tr th:only-of-type {\n",
       "        vertical-align: middle;\n",
       "    }\n",
       "\n",
       "    .dataframe tbody tr th {\n",
       "        vertical-align: top;\n",
       "    }\n",
       "\n",
       "    .dataframe thead th {\n",
       "        text-align: right;\n",
       "    }\n",
       "</style>\n",
       "<table border=\"1\" class=\"dataframe\">\n",
       "  <thead>\n",
       "    <tr style=\"text-align: right;\">\n",
       "      <th></th>\n",
       "      <th>Event_Name</th>\n",
       "      <th>Venue</th>\n",
       "      <th>Event_Date</th>\n",
       "      <th>Number_of_Attendees</th>\n",
       "    </tr>\n",
       "  </thead>\n",
       "  <tbody>\n",
       "    <tr>\n",
       "      <th>5</th>\n",
       "      <td>Theo Parrish</td>\n",
       "      <td>Dark Room - Baltimore</td>\n",
       "      <td>Sat, 09 Nov 2019 /</td>\n",
       "      <td>146.0</td>\n",
       "    </tr>\n",
       "    <tr>\n",
       "      <th>11</th>\n",
       "      <td>hothouse</td>\n",
       "      <td>TBA - Washington DC</td>\n",
       "      <td>Sat, 05 Oct 2019 /</td>\n",
       "      <td>76.0</td>\n",
       "    </tr>\n",
       "    <tr>\n",
       "      <th>10</th>\n",
       "      <td>Eddie C - Chris Nitti - Jacob Herschel</td>\n",
       "      <td>Dark Room - Baltimore</td>\n",
       "      <td>Sat, 12 Oct 2019 /</td>\n",
       "      <td>71.0</td>\n",
       "    </tr>\n",
       "    <tr>\n",
       "      <th>17</th>\n",
       "      <td>Sunday Love: The Finale: DJ Three - Oona Dahl ...</td>\n",
       "      <td>Flash</td>\n",
       "      <td>Sun, 06 Oct 2019 /</td>\n",
       "      <td>64.0</td>\n",
       "    </tr>\n",
       "    <tr>\n",
       "      <th>0</th>\n",
       "      <td>DJ Seinfeld</td>\n",
       "      <td>Flash</td>\n",
       "      <td>Wed, 09 Oct 2019 /</td>\n",
       "      <td>31.0</td>\n",
       "    </tr>\n",
       "  </tbody>\n",
       "</table>\n",
       "</div>"
      ],
      "text/plain": [
       "                                           Event_Name                  Venue  \\\n",
       "5                                        Theo Parrish  Dark Room - Baltimore   \n",
       "11                                           hothouse    TBA - Washington DC   \n",
       "10             Eddie C - Chris Nitti - Jacob Herschel  Dark Room - Baltimore   \n",
       "17  Sunday Love: The Finale: DJ Three - Oona Dahl ...                  Flash   \n",
       "0                                         DJ Seinfeld                  Flash   \n",
       "\n",
       "            Event_Date  Number_of_Attendees  \n",
       "5   Sat, 09 Nov 2019 /                146.0  \n",
       "11  Sat, 05 Oct 2019 /                 76.0  \n",
       "10  Sat, 12 Oct 2019 /                 71.0  \n",
       "17  Sun, 06 Oct 2019 /                 64.0  \n",
       "0   Wed, 09 Oct 2019 /                 31.0  "
      ]
     },
     "execution_count": 6,
     "metadata": {},
     "output_type": "execute_result"
    }
   ],
   "source": [
    "#Your code here\n",
    "df_dc = []\n",
    "total_rows = 0\n",
    "prior_rows = -1\n",
    "max_events = 1000\n",
    "current_page = \"https://www.residentadvisor.net/events/us/washingtondc\"\n",
    "while total_rows <= max_events and total_rows > prior_rows:\n",
    "        df = scrape_events(current_page)\n",
    "        df_dc.append(df)\n",
    "        prior_rows = total_rows\n",
    "        total_rows += len(df)\n",
    "        current_page = next_page(current_page)\n",
    "        print('current rows:', total_rows)\n",
    "        time.sleep(.25)\n",
    "        \n",
    "# Example\n",
    "df = pd.concat(df_dc)\n",
    "df.columns = [\"Event_Name\", \"Venue\", \"Event_Date\", \"Number_of_Attendees\"]\n",
    "print('Number of Events Scraped:', len(df))\n",
    "df.sort_values(by=['Number_of_Attendees', 'Event_Date'], ascending=False).head()"
   ]
  },
  {
   "cell_type": "markdown",
   "metadata": {},
   "source": [
    "## Summary \n",
    "\n",
    "Congratulations! In this lab, you successfully scraped a website for concert event information!"
   ]
  }
 ],
 "metadata": {
  "kernelspec": {
   "display_name": "Python 3",
   "language": "python",
   "name": "python3"
  },
  "language_info": {
   "codemirror_mode": {
    "name": "ipython",
    "version": 3
   },
   "file_extension": ".py",
   "mimetype": "text/x-python",
   "name": "python",
   "nbconvert_exporter": "python",
   "pygments_lexer": "ipython3",
   "version": "3.6.6"
  }
 },
 "nbformat": 4,
 "nbformat_minor": 2
}
